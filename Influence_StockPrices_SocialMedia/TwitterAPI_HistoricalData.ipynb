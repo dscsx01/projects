{
  "cells": [
    {
      "cell_type": "markdown",
      "source": [
        "# Twitter API: Historical Data"
      ],
      "metadata": {
        "id": "QNnAjlcX9ft2"
      },
      "id": "QNnAjlcX9ft2"
    },
    {
      "cell_type": "markdown",
      "source": [
        "This code is used to count the number of tweets for certain hashtags over a specified period of time and to load the results into a PostgreSQL database. It is a one-time action to obtain the required data from the past."
      ],
      "metadata": {
        "id": "H86BOWn49nqw"
      },
      "id": "H86BOWn49nqw"
    },
    {
      "cell_type": "code",
      "source": [
        "# import packages\n",
        "from twarc import Twarc2, expansions\n",
        "import json\n",
        "import pandas as pd\n",
        "from datetime import datetime, timedelta, timezone\n",
        "from sqlalchemy import create_engine\n",
        "from decouple import config"
      ],
      "metadata": {
        "id": "sb3h8abk9cox"
      },
      "id": "sb3h8abk9cox",
      "execution_count": null,
      "outputs": []
    },
    {
      "cell_type": "code",
      "execution_count": null,
      "id": "debe6878",
      "metadata": {
        "id": "debe6878"
      },
      "outputs": [],
      "source": [
        "# define database credentials and path\n",
        "dbuname = config('DBUNAME')\n",
        "dbpwd = config('DBPWD')\n",
        "host = config('HOST')\n",
        "port = config('PORT')\n",
        "dbname = config('DBNAME')\n",
        "bearer_token_aca = config('BEARER_TOKEN_ACA')"
      ]
    },
    {
      "cell_type": "code",
      "execution_count": null,
      "id": "af30ec38",
      "metadata": {
        "id": "af30ec38"
      },
      "outputs": [],
      "source": [
        "# define API client function\n",
        "client = Twarc2(bearer_token=bearer_token_aca)"
      ]
    },
    {
      "cell_type": "code",
      "execution_count": null,
      "id": "ba929fdb",
      "metadata": {
        "id": "ba929fdb"
      },
      "outputs": [],
      "source": [
        "def fetch_load_tweetcount_hist(label, ht1, ht2, start, end, method):\n",
        "\n",
        "        # Define query, time period and table_name\n",
        "        query = '('+ ht1 + ' OR ' + ht2 + ') -is:retweet'\n",
        "        start = start\n",
        "        end = end\n",
        "        table_name = 'table_tw_test_'+label\n",
        "\n",
        "        while True:\n",
        "            #fetch data\n",
        "            try:\n",
        "                count_results = client.counts_all(query=query, start_time=start, end_time=end, granularity='day')\n",
        "\n",
        "                tweets_df = pd.DataFrame()\n",
        "\n",
        "                # The Twitter API v2 returns the Tweet information and the user, media etc.  separately\n",
        "                # so we use expansions.flatten to get all the information in a single JSON\n",
        "                for page in count_results:\n",
        "                    result = expansions.flatten(page)\n",
        "                    for row in result:\n",
        "                        tweets_df = tweets_df.append(pd.DataFrame([{'date': row['end'],\n",
        "                                                'tweet_count': row['tweet_count']}]))\n",
        "\n",
        "                tweets_df['date'] = pd.to_datetime(tweets_df['date'])\n",
        "                tweets_df['label'] = label\n",
        "                tweets_df = tweets_df.sort_values('date')\n",
        "                tweets_df = tweets_df.reset_index(drop=True)\n",
        "\n",
        "            except Exception as e:\n",
        "                print(e)\n",
        "                print(\"tweet count failed: \" + label)\n",
        "                break\n",
        "\n",
        "            #load data\n",
        "            if_ex_val = method\n",
        "\n",
        "            try:\n",
        "                conn_string = 'postgresql://'+dbuname+':'+dbpwd+'@'+host+':'+port+'/'+dbname\n",
        "                engine = create_engine(conn_string)\n",
        "                tweets_df.to_sql(table_name, conn_string, if_exists = if_ex_val, index=False)\n",
        "            except Exception as e:\n",
        "                print(e)\n",
        "                print(\"Data load failed: \" + table_name)\n",
        "                break\n",
        "            break\n",
        "\n",
        "\n"
      ]
    },
    {
      "cell_type": "code",
      "execution_count": null,
      "id": "d3b97092",
      "metadata": {
        "id": "d3b97092"
      },
      "outputs": [],
      "source": [
        "# load of historical data\n",
        "\n",
        "def main():\n",
        "    # define hashtags\n",
        "    hashtags = {'bitcoin': ['#bitcoin','#btc'],'ethereum': ['#eth', '#ethereum'], 'binance': ['#binance','#bnb'],'ripple': ['#ripple','#xrp'],\n",
        "           'terra':['#terra','#luna'], 'cardano': ['#cardano','#ada'], 'solana': ['#sol','#solana'], 'avalanche': ['#avalanche','#avax'],\n",
        "           'polkadot':['#polkadot','#dot'],'dogecoin':['#dogecoin', '#doge'], 'msci_world': ['#msciworld', '#msci'],'euro_stoxx': ['#EXW1.DE','#eurostoxx'],\n",
        "            'smi':['#CSSMI.SW', '#smi'], 'nasdaq': ['#nasdaq', '#EXXT.DE'], 'gold':['#gold','#GC=F'], 'silver':['#silver','#SI=F']}\n",
        "\n",
        "    # set timeframe\n",
        "    end = datetime(2022, 4, 6, 0, 0, 0, 0, timezone.utc)\n",
        "    start = datetime(2020, 12, 31, 0, 0, 0, 0, timezone.utc)\n",
        "\n",
        "    # set method of function df.to_sql()\n",
        "    method = 'replace'\n",
        "\n",
        "    # execute function\n",
        "    for label in hashtags:\n",
        "        ht1 = hashtags[label][0]\n",
        "        ht2 = hashtags[label][1]\n",
        "        fetch_load_tweetcount_hist(label, ht1, ht2, start, end, method)\n",
        ""
      ]
    },
    {
      "cell_type": "code",
      "execution_count": null,
      "id": "c1c37118",
      "metadata": {
        "id": "c1c37118"
      },
      "outputs": [],
      "source": [
        "# execute function\n",
        "if __name__ == \"__main__\":\n",
        "    main()"
      ]
    }
  ],
  "metadata": {
    "kernelspec": {
      "display_name": "Python 3 (ipykernel)",
      "language": "python",
      "name": "python3"
    },
    "language_info": {
      "codemirror_mode": {
        "name": "ipython",
        "version": 3
      },
      "file_extension": ".py",
      "mimetype": "text/x-python",
      "name": "python",
      "nbconvert_exporter": "python",
      "pygments_lexer": "ipython3",
      "version": "3.9.7"
    },
    "colab": {
      "provenance": []
    }
  },
  "nbformat": 4,
  "nbformat_minor": 5
}
